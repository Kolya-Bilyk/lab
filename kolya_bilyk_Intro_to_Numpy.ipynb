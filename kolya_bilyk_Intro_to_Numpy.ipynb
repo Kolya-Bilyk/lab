{
  "nbformat": 4,
  "nbformat_minor": 0,
  "metadata": {
    "kernelspec": {
      "display_name": "Python 3",
      "language": "python",
      "name": "python3"
    },
    "language_info": {
      "codemirror_mode": {
        "name": "ipython",
        "version": 3
      },
      "file_extension": ".py",
      "mimetype": "text/x-python",
      "name": "python",
      "nbconvert_exporter": "python",
      "pygments_lexer": "ipython3",
      "version": "3.6.9"
    },
    "colab": {
      "name": "kolya_bilyk_Intro_to_Numpy.ipynb",
      "provenance": [],
      "include_colab_link": true
    }
  },
  "cells": [
    {
      "cell_type": "markdown",
      "metadata": {
        "id": "view-in-github",
        "colab_type": "text"
      },
      "source": [
        "<a href=\"https://colab.research.google.com/github/Kolya-Bilyk/lab/blob/master/kolya_bilyk_Intro_to_Numpy.ipynb\" target=\"_parent\"><img src=\"https://colab.research.google.com/assets/colab-badge.svg\" alt=\"Open In Colab\"/></a>"
      ]
    },
    {
      "cell_type": "markdown",
      "metadata": {
        "id": "Cr1S5aUHW403",
        "colab_type": "text"
      },
      "source": [
        "# Початок роботи з бібліотекою Numpy"
      ]
    },
    {
      "cell_type": "markdown",
      "metadata": {
        "id": "dRrz8o1MW408",
        "colab_type": "text"
      },
      "source": [
        "У даній лабораторній роботі розглянуто наступний функціонал бібліотеки Numpy:\n",
        "1. Створення масиву.\n",
        "2. Відображення масивів .\n",
        "3. Базові операції з масивами."
      ]
    },
    {
      "cell_type": "markdown",
      "metadata": {
        "id": "EYQ7HR1eW40_",
        "colab_type": "text"
      },
      "source": [
        "## Імпорт бібліотек та пакетів"
      ]
    },
    {
      "cell_type": "markdown",
      "metadata": {
        "id": "pwxa7EMKW41C",
        "colab_type": "text"
      },
      "source": [
        "Завантажуємо бібліотеку numpy та використаємо скорочення np."
      ]
    },
    {
      "cell_type": "code",
      "metadata": {
        "id": "w0Psg0OiW41F",
        "colab_type": "code",
        "colab": {}
      },
      "source": [
        "import numpy as np"
      ],
      "execution_count": 0,
      "outputs": []
    },
    {
      "cell_type": "markdown",
      "metadata": {
        "id": "yZdUuO9qW41U",
        "colab_type": "text"
      },
      "source": [
        "## Створеня масиву"
      ]
    },
    {
      "cell_type": "markdown",
      "metadata": {
        "id": "lWWxCNNWW41W",
        "colab_type": "text"
      },
      "source": [
        "Існує кілька способів створення масивів.\n",
        "Наприклад, можливе створення масиву зі звичайного списку Python або за допомогою функції масиву. Тип отриманого масиву обирається відповідно до типу елементів у послідовностях."
      ]
    },
    {
      "cell_type": "code",
      "metadata": {
        "id": "_GaAYCwMW41Y",
        "colab_type": "code",
        "outputId": "b5e897a7-5ae4-45ce-dd5e-40af5e1dcbbd",
        "colab": {
          "base_uri": "https://localhost:8080/",
          "height": 180
        }
      },
      "source": [
        "a = np.array([2,3,4])\n",
        "a"
      ],
      "execution_count": 0,
      "outputs": [
        {
          "output_type": "error",
          "ename": "NameError",
          "evalue": "ignored",
          "traceback": [
            "\u001b[0;31m---------------------------------------------------------------------------\u001b[0m",
            "\u001b[0;31mNameError\u001b[0m                                 Traceback (most recent call last)",
            "\u001b[0;32m<ipython-input-1-a4edf2a3487c>\u001b[0m in \u001b[0;36m<module>\u001b[0;34m()\u001b[0m\n\u001b[0;32m----> 1\u001b[0;31m \u001b[0ma\u001b[0m \u001b[0;34m=\u001b[0m \u001b[0mnp\u001b[0m\u001b[0;34m.\u001b[0m\u001b[0marray\u001b[0m\u001b[0;34m(\u001b[0m\u001b[0;34m[\u001b[0m\u001b[0;36m2\u001b[0m\u001b[0;34m,\u001b[0m\u001b[0;36m3\u001b[0m\u001b[0;34m,\u001b[0m\u001b[0;36m4\u001b[0m\u001b[0;34m]\u001b[0m\u001b[0;34m)\u001b[0m\u001b[0;34m\u001b[0m\u001b[0;34m\u001b[0m\u001b[0m\n\u001b[0m\u001b[1;32m      2\u001b[0m \u001b[0ma\u001b[0m\u001b[0;34m\u001b[0m\u001b[0;34m\u001b[0m\u001b[0m\n",
            "\u001b[0;31mNameError\u001b[0m: name 'np' is not defined"
          ]
        }
      ]
    },
    {
      "cell_type": "markdown",
      "metadata": {
        "id": "LxY4FaueW41k",
        "colab_type": "text"
      },
      "source": [
        "#### Друк типу масиву"
      ]
    },
    {
      "cell_type": "code",
      "metadata": {
        "id": "DW76wjl3W41m",
        "colab_type": "code",
        "outputId": "0268537b-73f8-44c6-8c46-bdd2d79b950e",
        "colab": {}
      },
      "source": [
        "a.dtype"
      ],
      "execution_count": 0,
      "outputs": [
        {
          "output_type": "execute_result",
          "data": {
            "text/plain": [
              "dtype('int64')"
            ]
          },
          "metadata": {
            "tags": []
          },
          "execution_count": 3
        }
      ]
    },
    {
      "cell_type": "code",
      "metadata": {
        "id": "2Z7s6bHwW41w",
        "colab_type": "code",
        "outputId": "8e87870d-6a1d-422b-ad83-3503d13f8e62",
        "colab": {}
      },
      "source": [
        "b = np.array([1.2, 3.5, 5.1])\n",
        "b.dtype"
      ],
      "execution_count": 0,
      "outputs": [
        {
          "output_type": "execute_result",
          "data": {
            "text/plain": [
              "dtype('float64')"
            ]
          },
          "metadata": {
            "tags": []
          },
          "execution_count": 4
        }
      ]
    },
    {
      "cell_type": "markdown",
      "metadata": {
        "id": "vpEi74iSW416",
        "colab_type": "text"
      },
      "source": [
        "#### Часта помилка полягає у виклику масиву з кількома числовими аргументами, а не в наданні єдиного списку чисел як аргументу."
      ]
    },
    {
      "cell_type": "code",
      "metadata": {
        "id": "oMGnrhr0W418",
        "colab_type": "code",
        "outputId": "abcca7f5-3db7-4bc8-96f6-b911644d30c4",
        "colab": {}
      },
      "source": [
        "a = np.array(1,2,3,4)    # ПОМИЛКА"
      ],
      "execution_count": 0,
      "outputs": [
        {
          "output_type": "error",
          "ename": "ValueError",
          "evalue": "only 2 non-keyword arguments accepted",
          "traceback": [
            "\u001b[0;31m---------------------------------------------------------------------------\u001b[0m",
            "\u001b[0;31mValueError\u001b[0m                                Traceback (most recent call last)",
            "\u001b[0;32m<ipython-input-5-341b73b3abe4>\u001b[0m in \u001b[0;36m<module>\u001b[0;34m()\u001b[0m\n\u001b[0;32m----> 1\u001b[0;31m \u001b[0ma\u001b[0m \u001b[0;34m=\u001b[0m \u001b[0mnp\u001b[0m\u001b[0;34m.\u001b[0m\u001b[0marray\u001b[0m\u001b[0;34m(\u001b[0m\u001b[0;36m1\u001b[0m\u001b[0;34m,\u001b[0m\u001b[0;36m2\u001b[0m\u001b[0;34m,\u001b[0m\u001b[0;36m3\u001b[0m\u001b[0;34m,\u001b[0m\u001b[0;36m4\u001b[0m\u001b[0;34m)\u001b[0m    \u001b[0;31m# ПОМИЛКА\u001b[0m\u001b[0;34m\u001b[0m\u001b[0;34m\u001b[0m\u001b[0m\n\u001b[0m",
            "\u001b[0;31mValueError\u001b[0m: only 2 non-keyword arguments accepted"
          ]
        }
      ]
    },
    {
      "cell_type": "code",
      "metadata": {
        "id": "mf2FiHBSW42F",
        "colab_type": "code",
        "outputId": "67e207bd-09a1-4646-97b4-db5d96367402",
        "colab": {}
      },
      "source": [
        "a = np.array([1,2,3,4])  # ВІРНО\n",
        "a"
      ],
      "execution_count": 0,
      "outputs": [
        {
          "output_type": "execute_result",
          "data": {
            "text/plain": [
              "array([1, 2, 3, 4])"
            ]
          },
          "metadata": {
            "tags": []
          },
          "execution_count": 6
        }
      ]
    },
    {
      "cell_type": "markdown",
      "metadata": {
        "id": "uwEgcVQVW42R",
        "colab_type": "text"
      },
      "source": [
        "Також можливе створення багатовимірних масивів"
      ]
    },
    {
      "cell_type": "code",
      "metadata": {
        "id": "ZzUbpL0VW42T",
        "colab_type": "code",
        "outputId": "2308b9a3-b4eb-492e-91c0-79f7d61da7b8",
        "colab": {}
      },
      "source": [
        "b = np.array([(1.5,2,3), (4,5,6)])\n",
        "b"
      ],
      "execution_count": 0,
      "outputs": [
        {
          "output_type": "execute_result",
          "data": {
            "text/plain": [
              "array([[1.5, 2. , 3. ],\n",
              "       [4. , 5. , 6. ]])"
            ]
          },
          "metadata": {
            "tags": []
          },
          "execution_count": 7
        }
      ]
    },
    {
      "cell_type": "markdown",
      "metadata": {
        "id": "aCc--mZ3W42c",
        "colab_type": "text"
      },
      "source": [
        "Тип масиву також може бути явно вказаний під час створення:"
      ]
    },
    {
      "cell_type": "code",
      "metadata": {
        "id": "6n7vg2QvW42e",
        "colab_type": "code",
        "outputId": "458968df-a18d-4ce8-ac1a-9cacd348af49",
        "colab": {}
      },
      "source": [
        "c = np.array( [ [1,2], [3,4] ], dtype=complex )\n",
        "c"
      ],
      "execution_count": 0,
      "outputs": [
        {
          "output_type": "execute_result",
          "data": {
            "text/plain": [
              "array([[1.+0.j, 2.+0.j],\n",
              "       [3.+0.j, 4.+0.j]])"
            ]
          },
          "metadata": {
            "tags": []
          },
          "execution_count": 8
        }
      ]
    },
    {
      "cell_type": "markdown",
      "metadata": {
        "id": "xh9-EkMoW42n",
        "colab_type": "text"
      },
      "source": [
        "Часто елементи масиву спочатку невідомі, але його розмір відомий. Отже, NumPy пропонує кілька функцій для створення масивів з початковим вмістом.\n",
        "\n",
        "**np.zeros()** створює масив, заповнений нулями, **np.ones()** створюють масив, повний одиниць, а функція **np.empty()** створює масив, початковий вміст якого є випадковим і залежить від стану пам'яті. За замовчуванням типом створеного масиву є float64."
      ]
    },
    {
      "cell_type": "code",
      "metadata": {
        "id": "gaVt4jskW42p",
        "colab_type": "code",
        "outputId": "09e48eb8-9d33-48d6-eac1-3ade399a9b10",
        "colab": {}
      },
      "source": [
        "np.zeros((3,4))"
      ],
      "execution_count": 0,
      "outputs": [
        {
          "output_type": "execute_result",
          "data": {
            "text/plain": [
              "array([[0., 0., 0., 0.],\n",
              "       [0., 0., 0., 0.],\n",
              "       [0., 0., 0., 0.]])"
            ]
          },
          "metadata": {
            "tags": []
          },
          "execution_count": 9
        }
      ]
    },
    {
      "cell_type": "code",
      "metadata": {
        "id": "MU-aGGuYW421",
        "colab_type": "code",
        "outputId": "0dcffd4f-2e88-4a0d-848a-bf394dc49782",
        "colab": {}
      },
      "source": [
        "np.ones((2,3,4), dtype=np.int16) "
      ],
      "execution_count": 0,
      "outputs": [
        {
          "output_type": "execute_result",
          "data": {
            "text/plain": [
              "array([[[1, 1, 1, 1],\n",
              "        [1, 1, 1, 1],\n",
              "        [1, 1, 1, 1]],\n",
              "\n",
              "       [[1, 1, 1, 1],\n",
              "        [1, 1, 1, 1],\n",
              "        [1, 1, 1, 1]]], dtype=int16)"
            ]
          },
          "metadata": {
            "tags": []
          },
          "execution_count": 10
        }
      ]
    },
    {
      "cell_type": "code",
      "metadata": {
        "id": "_x84HyBVW42-",
        "colab_type": "code",
        "outputId": "05538f42-00f7-43eb-d3c3-d03e20ae8600",
        "colab": {}
      },
      "source": [
        "np.empty((2,3)) "
      ],
      "execution_count": 0,
      "outputs": [
        {
          "output_type": "execute_result",
          "data": {
            "text/plain": [
              "array([[1.5, 2. , 3. ],\n",
              "       [4. , 5. , 6. ]])"
            ]
          },
          "metadata": {
            "tags": []
          },
          "execution_count": 11
        }
      ]
    },
    {
      "cell_type": "markdown",
      "metadata": {
        "id": "WZUbIQvSW43G",
        "colab_type": "text"
      },
      "source": [
        "Коли використовується ранжування чисел із плаваючою точкою, як правило, неможливо передбачити кількість одержаних елементів через точність кінцевої плаваючої точки. З цієї причини, як правило, краще використовувати функцію **np.linspace**, яка отримує в якості аргументу кількість потрібних нам елементів, а не крок:"
      ]
    },
    {
      "cell_type": "code",
      "metadata": {
        "id": "S4dL6CTDW43I",
        "colab_type": "code",
        "outputId": "b55b741d-d62d-4546-ea3e-e1fe02a01ced",
        "colab": {}
      },
      "source": [
        "from numpy import pi\n",
        "np.linspace(0, 2, 9)                 # 9 чисел від 0 до 2"
      ],
      "execution_count": 0,
      "outputs": [
        {
          "output_type": "execute_result",
          "data": {
            "text/plain": [
              "array([0.  , 0.25, 0.5 , 0.75, 1.  , 1.25, 1.5 , 1.75, 2.  ])"
            ]
          },
          "metadata": {
            "tags": []
          },
          "execution_count": 12
        }
      ]
    },
    {
      "cell_type": "code",
      "metadata": {
        "id": "zeR9jAQ-W43S",
        "colab_type": "code",
        "colab": {}
      },
      "source": [
        "x = np.linspace(0, 2*pi, 100)        \n",
        "f = np.sin(x)"
      ],
      "execution_count": 0,
      "outputs": []
    },
    {
      "cell_type": "markdown",
      "metadata": {
        "id": "adFFFKrSW43c",
        "colab_type": "text"
      },
      "source": [
        "### Виведення масиву"
      ]
    },
    {
      "cell_type": "code",
      "metadata": {
        "id": "MzcZok0bW43e",
        "colab_type": "code",
        "outputId": "c6bf2021-c3a9-4262-8da6-c8399f50f842",
        "colab": {}
      },
      "source": [
        "a = np.arange(6)                         # 1-мірний масив\n",
        "print(a)"
      ],
      "execution_count": 0,
      "outputs": [
        {
          "output_type": "stream",
          "text": [
            "[0 1 2 3 4 5]\n"
          ],
          "name": "stdout"
        }
      ]
    },
    {
      "cell_type": "code",
      "metadata": {
        "id": "_s8N-61qW43n",
        "colab_type": "code",
        "outputId": "122f37ee-e51f-4296-ee9a-33fa1ad5e0cd",
        "colab": {}
      },
      "source": [
        "b = np.arange(12).reshape(4,3)           # 2-мірний масив\n",
        "print(b)"
      ],
      "execution_count": 0,
      "outputs": [
        {
          "output_type": "stream",
          "text": [
            "[[ 0  1  2]\n",
            " [ 3  4  5]\n",
            " [ 6  7  8]\n",
            " [ 9 10 11]]\n"
          ],
          "name": "stdout"
        }
      ]
    },
    {
      "cell_type": "code",
      "metadata": {
        "id": "YtDptf_xW431",
        "colab_type": "code",
        "outputId": "f85b0f68-4911-4e1b-e6dd-10ee457a857a",
        "colab": {}
      },
      "source": [
        "c = np.arange(24).reshape(2,3,4)         # 3-мірний масив\n",
        "print(c)"
      ],
      "execution_count": 0,
      "outputs": [
        {
          "output_type": "stream",
          "text": [
            "[[[ 0  1  2  3]\n",
            "  [ 4  5  6  7]\n",
            "  [ 8  9 10 11]]\n",
            "\n",
            " [[12 13 14 15]\n",
            "  [16 17 18 19]\n",
            "  [20 21 22 23]]]\n"
          ],
          "name": "stdout"
        }
      ]
    },
    {
      "cell_type": "markdown",
      "metadata": {
        "id": "ADlwoa8AW44B",
        "colab_type": "text"
      },
      "source": [
        "### Базові операції"
      ]
    },
    {
      "cell_type": "markdown",
      "metadata": {
        "id": "FSqWihlxW44D",
        "colab_type": "text"
      },
      "source": [
        "Арифметичні оператори на масивах застосовуються по елементно. Створюється новий масив і заповнюється результатом."
      ]
    },
    {
      "cell_type": "code",
      "metadata": {
        "id": "A5DqOtRtW44E",
        "colab_type": "code",
        "outputId": "a1e82515-1adb-4043-c91b-3ca1ecfc7134",
        "colab": {}
      },
      "source": [
        "a = np.array( [20,30,40,50] )\n",
        "b = np.arange( 4 )\n",
        "b"
      ],
      "execution_count": 0,
      "outputs": [
        {
          "output_type": "execute_result",
          "data": {
            "text/plain": [
              "array([0, 1, 2, 3])"
            ]
          },
          "metadata": {
            "tags": []
          },
          "execution_count": 17
        }
      ]
    },
    {
      "cell_type": "code",
      "metadata": {
        "id": "rd-rFzkQW44L",
        "colab_type": "code",
        "outputId": "d0d6c341-8fe2-4fe2-a05b-a66e8d2b5d64",
        "colab": {}
      },
      "source": [
        "c = a-b\n",
        "c"
      ],
      "execution_count": 0,
      "outputs": [
        {
          "output_type": "execute_result",
          "data": {
            "text/plain": [
              "array([20, 29, 38, 47])"
            ]
          },
          "metadata": {
            "tags": []
          },
          "execution_count": 18
        }
      ]
    },
    {
      "cell_type": "markdown",
      "metadata": {
        "id": "FuxEnsINW44T",
        "colab_type": "text"
      },
      "source": [
        "#### Зведення в ступінь"
      ]
    },
    {
      "cell_type": "code",
      "metadata": {
        "id": "Ul9m2xKbW44V",
        "colab_type": "code",
        "outputId": "7bbce67c-9ed0-4ae5-da21-118c6346fb2b",
        "colab": {}
      },
      "source": [
        "b**2"
      ],
      "execution_count": 0,
      "outputs": [
        {
          "output_type": "execute_result",
          "data": {
            "text/plain": [
              "array([0, 1, 4, 9])"
            ]
          },
          "metadata": {
            "tags": []
          },
          "execution_count": 19
        }
      ]
    },
    {
      "cell_type": "markdown",
      "metadata": {
        "id": "6fieAPMfW44c",
        "colab_type": "text"
      },
      "source": [
        "#### Множення"
      ]
    },
    {
      "cell_type": "code",
      "metadata": {
        "id": "3uPW7MRQW44e",
        "colab_type": "code",
        "outputId": "a435f61b-9084-4d6d-9a42-eb50505e40ed",
        "colab": {}
      },
      "source": [
        "10*np.sin(a)"
      ],
      "execution_count": 0,
      "outputs": [
        {
          "output_type": "execute_result",
          "data": {
            "text/plain": [
              "array([ 9.12945251, -9.88031624,  7.4511316 , -2.62374854])"
            ]
          },
          "metadata": {
            "tags": []
          },
          "execution_count": 20
        }
      ]
    },
    {
      "cell_type": "markdown",
      "metadata": {
        "id": "oNPosUtmW44l",
        "colab_type": "text"
      },
      "source": [
        "#### Нерівність"
      ]
    },
    {
      "cell_type": "code",
      "metadata": {
        "id": "htHaizO8W44n",
        "colab_type": "code",
        "outputId": "736cd553-ef3b-49c0-baec-54a5e3985e8c",
        "colab": {}
      },
      "source": [
        "a<35"
      ],
      "execution_count": 0,
      "outputs": [
        {
          "output_type": "execute_result",
          "data": {
            "text/plain": [
              "array([ True,  True, False, False])"
            ]
          },
          "metadata": {
            "tags": []
          },
          "execution_count": 21
        }
      ]
    },
    {
      "cell_type": "markdown",
      "metadata": {
        "id": "FW54dWKfW44u",
        "colab_type": "text"
      },
      "source": [
        "На відміну від багатьох матричних мов програмування, оператор множення $*$ працює по елементно в масивах NumPy. Матричне множення можна виконати за допомогою оператора **@** або методу **dot**:"
      ]
    },
    {
      "cell_type": "code",
      "metadata": {
        "id": "YeM8i9JAW44w",
        "colab_type": "code",
        "colab": {}
      },
      "source": [
        "A = np.array([[1,1],\n",
        "              [0,1]] )\n",
        "\n",
        "B = np.array([[2,0],\n",
        "              [3,4]] )"
      ],
      "execution_count": 0,
      "outputs": []
    },
    {
      "cell_type": "markdown",
      "metadata": {
        "id": "NmC-mSG_W443",
        "colab_type": "text"
      },
      "source": [
        "По елементне множення"
      ]
    },
    {
      "cell_type": "code",
      "metadata": {
        "id": "UqLx1gt1W444",
        "colab_type": "code",
        "outputId": "3dc3eca8-3a3a-4821-b972-665f327bd3d2",
        "colab": {}
      },
      "source": [
        "A * B                       "
      ],
      "execution_count": 0,
      "outputs": [
        {
          "output_type": "execute_result",
          "data": {
            "text/plain": [
              "array([[2, 0],\n",
              "       [0, 4]])"
            ]
          },
          "metadata": {
            "tags": []
          },
          "execution_count": 23
        }
      ]
    },
    {
      "cell_type": "markdown",
      "metadata": {
        "id": "Mcg_KU47W45D",
        "colab_type": "text"
      },
      "source": [
        "Матричне множення"
      ]
    },
    {
      "cell_type": "code",
      "metadata": {
        "id": "7XYd2BpXW45F",
        "colab_type": "code",
        "outputId": "501ac53a-fac5-46a3-e886-f613387375f8",
        "colab": {}
      },
      "source": [
        "A @ B                     "
      ],
      "execution_count": 0,
      "outputs": [
        {
          "output_type": "execute_result",
          "data": {
            "text/plain": [
              "array([[5, 4],\n",
              "       [3, 4]])"
            ]
          },
          "metadata": {
            "tags": []
          },
          "execution_count": 24
        }
      ]
    },
    {
      "cell_type": "markdown",
      "metadata": {
        "id": "nf7CD8_UW45M",
        "colab_type": "text"
      },
      "source": [
        "Матричне множення"
      ]
    },
    {
      "cell_type": "code",
      "metadata": {
        "id": "oy9k0EbzW45N",
        "colab_type": "code",
        "outputId": "588d7425-8b38-44c7-9513-75eedbbf951d",
        "colab": {}
      },
      "source": [
        "A.dot(B)"
      ],
      "execution_count": 0,
      "outputs": [
        {
          "output_type": "execute_result",
          "data": {
            "text/plain": [
              "array([[5, 4],\n",
              "       [3, 4]])"
            ]
          },
          "metadata": {
            "tags": []
          },
          "execution_count": 25
        }
      ]
    },
    {
      "cell_type": "markdown",
      "metadata": {
        "id": "2Tuc2IMhW45V",
        "colab_type": "text"
      },
      "source": [
        "Багато унарних операцій, таких як обчислення суми всіх елементів масиву, реалізовані як методи класу ndarray."
      ]
    },
    {
      "cell_type": "code",
      "metadata": {
        "id": "Vz0lTBhOW45X",
        "colab_type": "code",
        "outputId": "b2fbd21d-ec3c-417c-8d6a-47c15c7e0765",
        "colab": {}
      },
      "source": [
        "a = np.random.random((2,3))\n",
        "a"
      ],
      "execution_count": 0,
      "outputs": [
        {
          "output_type": "execute_result",
          "data": {
            "text/plain": [
              "array([[0.8807238 , 0.80954498, 0.4363596 ],\n",
              "       [0.31225657, 0.15228422, 0.57718236]])"
            ]
          },
          "metadata": {
            "tags": []
          },
          "execution_count": 26
        }
      ]
    },
    {
      "cell_type": "markdown",
      "metadata": {
        "id": "wWlDYNUMW45h",
        "colab_type": "text"
      },
      "source": [
        "Сумування елементів масиву"
      ]
    },
    {
      "cell_type": "code",
      "metadata": {
        "id": "Om8IOgEjW45i",
        "colab_type": "code",
        "outputId": "e965867d-2a2d-4746-f599-16bf006eba19",
        "colab": {}
      },
      "source": [
        "a.sum()"
      ],
      "execution_count": 0,
      "outputs": [
        {
          "output_type": "execute_result",
          "data": {
            "text/plain": [
              "3.168351538476806"
            ]
          },
          "metadata": {
            "tags": []
          },
          "execution_count": 27
        }
      ]
    },
    {
      "cell_type": "markdown",
      "metadata": {
        "id": "xajjF_qcW45r",
        "colab_type": "text"
      },
      "source": [
        "Визначення мінімального значення"
      ]
    },
    {
      "cell_type": "code",
      "metadata": {
        "id": "DKZyPnppW45s",
        "colab_type": "code",
        "outputId": "d02e7788-5163-41ad-8304-152785e03a3c",
        "colab": {}
      },
      "source": [
        "a.min()"
      ],
      "execution_count": 0,
      "outputs": [
        {
          "output_type": "execute_result",
          "data": {
            "text/plain": [
              "0.15228422498698901"
            ]
          },
          "metadata": {
            "tags": []
          },
          "execution_count": 28
        }
      ]
    },
    {
      "cell_type": "markdown",
      "metadata": {
        "id": "5VXYkSJgW453",
        "colab_type": "text"
      },
      "source": [
        "Визначення максимального значення"
      ]
    },
    {
      "cell_type": "code",
      "metadata": {
        "id": "SBesxRKnW455",
        "colab_type": "code",
        "outputId": "21cce999-c130-4715-b6be-d95c58df2ab0",
        "colab": {}
      },
      "source": [
        "a.max()"
      ],
      "execution_count": 0,
      "outputs": [
        {
          "output_type": "execute_result",
          "data": {
            "text/plain": [
              "0.8807238047576498"
            ]
          },
          "metadata": {
            "tags": []
          },
          "execution_count": 29
        }
      ]
    },
    {
      "cell_type": "markdown",
      "metadata": {
        "id": "kieMj-IeW46B",
        "colab_type": "text"
      },
      "source": [
        "#### Робота із рядками та стовпцями"
      ]
    },
    {
      "cell_type": "code",
      "metadata": {
        "id": "D-vtG4n3W46C",
        "colab_type": "code",
        "outputId": "5337f95a-38b1-42ec-89f7-87b7b2ad03ca",
        "colab": {}
      },
      "source": [
        "b = np.arange(12).reshape(3,4)\n",
        "b"
      ],
      "execution_count": 0,
      "outputs": [
        {
          "output_type": "execute_result",
          "data": {
            "text/plain": [
              "array([[ 0,  1,  2,  3],\n",
              "       [ 4,  5,  6,  7],\n",
              "       [ 8,  9, 10, 11]])"
            ]
          },
          "metadata": {
            "tags": []
          },
          "execution_count": 30
        }
      ]
    },
    {
      "cell_type": "markdown",
      "metadata": {
        "id": "C9voupCIW46K",
        "colab_type": "text"
      },
      "source": [
        "Сумування кожного стовпця"
      ]
    },
    {
      "cell_type": "code",
      "metadata": {
        "id": "bSdwUgLyW46M",
        "colab_type": "code",
        "outputId": "1d780c84-933d-4c04-b657-a61f7e4d5314",
        "colab": {}
      },
      "source": [
        "b.sum(axis=0)                       "
      ],
      "execution_count": 0,
      "outputs": [
        {
          "output_type": "execute_result",
          "data": {
            "text/plain": [
              "array([12, 15, 18, 21])"
            ]
          },
          "metadata": {
            "tags": []
          },
          "execution_count": 31
        }
      ]
    },
    {
      "cell_type": "markdown",
      "metadata": {
        "id": "u_wjDFhoW46W",
        "colab_type": "text"
      },
      "source": [
        "Мінімальні елементи в кожному стовпці"
      ]
    },
    {
      "cell_type": "code",
      "metadata": {
        "id": "eTH2dlD_W46X",
        "colab_type": "code",
        "outputId": "47e6b4ed-4773-4c8d-a354-43e7ab6b8fa2",
        "colab": {}
      },
      "source": [
        "b.min(axis=0)                          "
      ],
      "execution_count": 0,
      "outputs": [
        {
          "output_type": "execute_result",
          "data": {
            "text/plain": [
              "array([0, 1, 2, 3])"
            ]
          },
          "metadata": {
            "tags": []
          },
          "execution_count": 32
        }
      ]
    },
    {
      "cell_type": "markdown",
      "metadata": {
        "id": "H2b32HA9W46g",
        "colab_type": "text"
      },
      "source": [
        "Максимальні елементи в кожному рядку"
      ]
    },
    {
      "cell_type": "code",
      "metadata": {
        "id": "carRkQwBW46i",
        "colab_type": "code",
        "outputId": "6236dd16-66ac-45f3-bc20-f0b2c0313ff4",
        "colab": {}
      },
      "source": [
        "b.max(axis=1)  "
      ],
      "execution_count": 0,
      "outputs": [
        {
          "output_type": "execute_result",
          "data": {
            "text/plain": [
              "array([ 3,  7, 11])"
            ]
          },
          "metadata": {
            "tags": []
          },
          "execution_count": 33
        }
      ]
    },
    {
      "cell_type": "markdown",
      "metadata": {
        "id": "2N6MQH58W46u",
        "colab_type": "text"
      },
      "source": [
        "### Індексування масивів"
      ]
    },
    {
      "cell_type": "code",
      "metadata": {
        "id": "LiAhb0XOW46w",
        "colab_type": "code",
        "outputId": "fded56d9-17d5-4a48-a360-898c5c2470f7",
        "colab": {}
      },
      "source": [
        "a = np.arange(10)**3\n",
        "a"
      ],
      "execution_count": 0,
      "outputs": [
        {
          "output_type": "execute_result",
          "data": {
            "text/plain": [
              "array([  0,   1,   8,  27,  64, 125, 216, 343, 512, 729])"
            ]
          },
          "metadata": {
            "tags": []
          },
          "execution_count": 34
        }
      ]
    },
    {
      "cell_type": "markdown",
      "metadata": {
        "id": "sMxpacwNW467",
        "colab_type": "text"
      },
      "source": [
        "Доступ до довільного елементу масиву"
      ]
    },
    {
      "cell_type": "code",
      "metadata": {
        "id": "21FfuoYRW46-",
        "colab_type": "code",
        "outputId": "16ec5131-22d8-4301-ab79-ee4cb3893eec",
        "colab": {}
      },
      "source": [
        "a[2]"
      ],
      "execution_count": 0,
      "outputs": [
        {
          "output_type": "execute_result",
          "data": {
            "text/plain": [
              "8"
            ]
          },
          "metadata": {
            "tags": []
          },
          "execution_count": 35
        }
      ]
    },
    {
      "cell_type": "markdown",
      "metadata": {
        "id": "WivUYezDW47G",
        "colab_type": "text"
      },
      "source": [
        "Доступ до декількох елементів масиву в зазначених межах"
      ]
    },
    {
      "cell_type": "code",
      "metadata": {
        "id": "VwOPWbGXW47I",
        "colab_type": "code",
        "outputId": "ecf745cd-11cd-4be3-9fd2-1c45e1239eae",
        "colab": {}
      },
      "source": [
        "a[2:5]"
      ],
      "execution_count": 0,
      "outputs": [
        {
          "output_type": "execute_result",
          "data": {
            "text/plain": [
              "array([ 8, 27, 64])"
            ]
          },
          "metadata": {
            "tags": []
          },
          "execution_count": 36
        }
      ]
    },
    {
      "cell_type": "markdown",
      "metadata": {
        "id": "2LO6rMxYW47V",
        "colab_type": "text"
      },
      "source": [
        "Ітеративна заміна значень масиву\n",
        "Зі стартової позиції 6 замінити кожен другий елемент на -1000"
      ]
    },
    {
      "cell_type": "code",
      "metadata": {
        "id": "jagRbrTAW47Y",
        "colab_type": "code",
        "outputId": "acf93b4a-c722-406c-a9cd-de65c324c4a9",
        "colab": {}
      },
      "source": [
        "a[:6:2] = -1000\n",
        "a"
      ],
      "execution_count": 0,
      "outputs": [
        {
          "output_type": "execute_result",
          "data": {
            "text/plain": [
              "array([-1000,     1, -1000,    27, -1000,   125,   216,   343,   512,\n",
              "         729])"
            ]
          },
          "metadata": {
            "tags": []
          },
          "execution_count": 37
        }
      ]
    },
    {
      "cell_type": "markdown",
      "metadata": {
        "id": "c6H8DXtwW47l",
        "colab_type": "text"
      },
      "source": [
        "Реверс масиву"
      ]
    },
    {
      "cell_type": "code",
      "metadata": {
        "id": "lI99oEMnW47m",
        "colab_type": "code",
        "outputId": "d34c0c7c-1e44-4089-db64-0b83a2f91269",
        "colab": {}
      },
      "source": [
        "a[ : :-1]                               "
      ],
      "execution_count": 0,
      "outputs": [
        {
          "output_type": "execute_result",
          "data": {
            "text/plain": [
              "array([  729,   512,   343,   216,   125, -1000,    27, -1000,     1,\n",
              "       -1000])"
            ]
          },
          "metadata": {
            "tags": []
          },
          "execution_count": 38
        }
      ]
    },
    {
      "cell_type": "markdown",
      "metadata": {
        "id": "ABDYGnMNW47w",
        "colab_type": "text"
      },
      "source": [
        "Доступ до елментів масиву через цикл"
      ]
    },
    {
      "cell_type": "code",
      "metadata": {
        "id": "xldJXdn5W47y",
        "colab_type": "code",
        "outputId": "3d1ef9fa-bc63-4314-ac87-8de257499050",
        "colab": {}
      },
      "source": [
        "for i in a:\n",
        "    print(\"%1.0f\" % (i**(1/3.)))"
      ],
      "execution_count": 0,
      "outputs": [
        {
          "output_type": "stream",
          "text": [
            "nan\n",
            "1\n",
            "nan\n",
            "3\n",
            "nan\n",
            "5\n",
            "6\n",
            "7\n",
            "8\n",
            "9\n"
          ],
          "name": "stdout"
        },
        {
          "output_type": "stream",
          "text": [
            "/home/svs/myenv/lib/python3.6/site-packages/ipykernel_launcher.py:2: RuntimeWarning: invalid value encountered in power\n",
            "  \n"
          ],
          "name": "stderr"
        }
      ]
    },
    {
      "cell_type": "markdown",
      "metadata": {
        "id": "8O-Uwk8YW477",
        "colab_type": "text"
      },
      "source": [
        "### Зміна розмірноста (\"форми\") масиву"
      ]
    },
    {
      "cell_type": "markdown",
      "metadata": {
        "id": "W5akmwXAW478",
        "colab_type": "text"
      },
      "source": [
        "За допомогою функції **np.floor**, яка округлює число до цілого створимо масив із віипадковими числами."
      ]
    },
    {
      "cell_type": "code",
      "metadata": {
        "id": "vJATSoNjW479",
        "colab_type": "code",
        "outputId": "988801fe-ea26-4a71-d9d9-fc75d22c209b",
        "colab": {}
      },
      "source": [
        "a = np.floor(10*np.random.random((3,4)))\n",
        "a"
      ],
      "execution_count": 0,
      "outputs": [
        {
          "output_type": "execute_result",
          "data": {
            "text/plain": [
              "array([[1., 9., 9., 0.],\n",
              "       [4., 9., 2., 5.],\n",
              "       [6., 4., 0., 8.]])"
            ]
          },
          "metadata": {
            "tags": []
          },
          "execution_count": 40
        }
      ]
    },
    {
      "cell_type": "markdown",
      "metadata": {
        "id": "1kJqwsibW48D",
        "colab_type": "text"
      },
      "source": [
        "Визначення розмірності масиву"
      ]
    },
    {
      "cell_type": "code",
      "metadata": {
        "id": "u2AW8p6uW48F",
        "colab_type": "code",
        "outputId": "c2782ae1-f96f-4dab-d4d4-b57345acaeed",
        "colab": {}
      },
      "source": [
        "a.shape"
      ],
      "execution_count": 0,
      "outputs": [
        {
          "output_type": "execute_result",
          "data": {
            "text/plain": [
              "(3, 4)"
            ]
          },
          "metadata": {
            "tags": []
          },
          "execution_count": 41
        }
      ]
    },
    {
      "cell_type": "markdown",
      "metadata": {
        "id": "Z-X3qcrLW48M",
        "colab_type": "text"
      },
      "source": [
        "Форму масиву можна змінювати за допомогою різних команд. Зауважте, що всі наступні три команди повертають модифікований масив, але не змінюють початковий масив:"
      ]
    },
    {
      "cell_type": "markdown",
      "metadata": {
        "id": "SJCnPnZgW48N",
        "colab_type": "text"
      },
      "source": [
        "Функція **ravel()** перетворює багатовимірний масив в одновимірний"
      ]
    },
    {
      "cell_type": "code",
      "metadata": {
        "id": "Mt9NshOHW48O",
        "colab_type": "code",
        "outputId": "a6189046-27f1-44db-ad92-ca0bc9c36e12",
        "colab": {}
      },
      "source": [
        "a.ravel()  "
      ],
      "execution_count": 0,
      "outputs": [
        {
          "output_type": "execute_result",
          "data": {
            "text/plain": [
              "array([1., 9., 9., 0., 4., 9., 2., 5., 6., 4., 0., 8.])"
            ]
          },
          "metadata": {
            "tags": []
          },
          "execution_count": 42
        }
      ]
    },
    {
      "cell_type": "markdown",
      "metadata": {
        "id": "Mji7d5CEW48W",
        "colab_type": "text"
      },
      "source": [
        "Функція **reshape()** змінює форму масиву на задану"
      ]
    },
    {
      "cell_type": "code",
      "metadata": {
        "id": "YHn-2EPRW48X",
        "colab_type": "code",
        "outputId": "4c0c7674-75a8-4635-9732-a96aaea96982",
        "colab": {}
      },
      "source": [
        "a.reshape(6,2)  "
      ],
      "execution_count": 0,
      "outputs": [
        {
          "output_type": "execute_result",
          "data": {
            "text/plain": [
              "array([[1., 9.],\n",
              "       [9., 0.],\n",
              "       [4., 9.],\n",
              "       [2., 5.],\n",
              "       [6., 4.],\n",
              "       [0., 8.]])"
            ]
          },
          "metadata": {
            "tags": []
          },
          "execution_count": 43
        }
      ]
    },
    {
      "cell_type": "markdown",
      "metadata": {
        "id": "pvfkON-sW48g",
        "colab_type": "text"
      },
      "source": [
        "Транспонування масиву"
      ]
    },
    {
      "cell_type": "code",
      "metadata": {
        "id": "W9ouyMlUW48h",
        "colab_type": "code",
        "outputId": "81541703-c3cc-43dc-aee3-aa88abaa97f9",
        "colab": {}
      },
      "source": [
        "a.T"
      ],
      "execution_count": 0,
      "outputs": [
        {
          "output_type": "execute_result",
          "data": {
            "text/plain": [
              "array([[1., 4., 6.],\n",
              "       [9., 9., 4.],\n",
              "       [9., 2., 0.],\n",
              "       [0., 5., 8.]])"
            ]
          },
          "metadata": {
            "tags": []
          },
          "execution_count": 44
        }
      ]
    },
    {
      "cell_type": "markdown",
      "metadata": {
        "id": "Xfslgg6KW48w",
        "colab_type": "text"
      },
      "source": [
        "Визначення розмірності транспонованого масиву"
      ]
    },
    {
      "cell_type": "code",
      "metadata": {
        "id": "GZ2rGFMfW48y",
        "colab_type": "code",
        "outputId": "5dbbf842-b164-4d4d-eb0d-239a86f3ee5c",
        "colab": {}
      },
      "source": [
        "a.T.shape"
      ],
      "execution_count": 0,
      "outputs": [
        {
          "output_type": "execute_result",
          "data": {
            "text/plain": [
              "(4, 3)"
            ]
          },
          "metadata": {
            "tags": []
          },
          "execution_count": 45
        }
      ]
    },
    {
      "cell_type": "markdown",
      "metadata": {
        "id": "TNqlOSOUW484",
        "colab_type": "text"
      },
      "source": [
        "Визначення розмірності вихідного масиву"
      ]
    },
    {
      "cell_type": "code",
      "metadata": {
        "id": "z8NN8KBQW486",
        "colab_type": "code",
        "outputId": "5ab5353b-c0a6-4fd0-c143-cd8c80ed2d0c",
        "colab": {}
      },
      "source": [
        "a.shape"
      ],
      "execution_count": 0,
      "outputs": [
        {
          "output_type": "execute_result",
          "data": {
            "text/plain": [
              "(3, 4)"
            ]
          },
          "metadata": {
            "tags": []
          },
          "execution_count": 46
        }
      ]
    },
    {
      "cell_type": "markdown",
      "metadata": {
        "id": "rn-waxWVW49L",
        "colab_type": "text"
      },
      "source": [
        "Функція **reshape()** повертає аргумент із зміненою формою, тоді як метод **resize()** змінює сам масив:"
      ]
    },
    {
      "cell_type": "code",
      "metadata": {
        "id": "7AB4EhagW49O",
        "colab_type": "code",
        "outputId": "36c8ee29-b0ee-4e6b-9ef4-f661c6d5d2fe",
        "colab": {}
      },
      "source": [
        "a"
      ],
      "execution_count": 0,
      "outputs": [
        {
          "output_type": "execute_result",
          "data": {
            "text/plain": [
              "array([[1., 9., 9., 0.],\n",
              "       [4., 9., 2., 5.],\n",
              "       [6., 4., 0., 8.]])"
            ]
          },
          "metadata": {
            "tags": []
          },
          "execution_count": 47
        }
      ]
    },
    {
      "cell_type": "code",
      "metadata": {
        "id": "Q2HV1JGIW49W",
        "colab_type": "code",
        "outputId": "b8044162-8d93-4e93-8f64-aedc2ed09a35",
        "colab": {}
      },
      "source": [
        "a.resize((2,6))\n",
        "a"
      ],
      "execution_count": 0,
      "outputs": [
        {
          "output_type": "execute_result",
          "data": {
            "text/plain": [
              "array([[1., 9., 9., 0., 4., 9.],\n",
              "       [2., 5., 6., 4., 0., 8.]])"
            ]
          },
          "metadata": {
            "tags": []
          },
          "execution_count": 48
        }
      ]
    },
    {
      "cell_type": "markdown",
      "metadata": {
        "id": "HxfF9R7DW49g",
        "colab_type": "text"
      },
      "source": [
        "# Завдання\n",
        "## 1. Створити двомірний нульовий масив розміром 11х11 та заповнити його діагоналі одиницями.\n",
        "\n",
        "1.1. Задати розмір масиву"
      ]
    },
    {
      "cell_type": "code",
      "metadata": {
        "id": "ivJqN7gAW49h",
        "colab_type": "code",
        "colab": {}
      },
      "source": [
        "size = 11"
      ],
      "execution_count": 0,
      "outputs": []
    },
    {
      "cell_type": "markdown",
      "metadata": {
        "id": "UzTb8fwAW49o",
        "colab_type": "text"
      },
      "source": [
        "1.2. Створити нульовий масив заданого розміру"
      ]
    },
    {
      "cell_type": "code",
      "metadata": {
        "id": "0aeAfC_aW49p",
        "colab_type": "code",
        "colab": {}
      },
      "source": [
        "arr = np.zeros((size,size))"
      ],
      "execution_count": 0,
      "outputs": []
    },
    {
      "cell_type": "markdown",
      "metadata": {
        "id": "vWOEfwXDW49y",
        "colab_type": "text"
      },
      "source": [
        "1.3 Надрукувати створений масив"
      ]
    },
    {
      "cell_type": "code",
      "metadata": {
        "id": "pV870NoLW490",
        "colab_type": "code",
        "outputId": "d45de47e-22a7-41ab-95ca-8861c610b9de",
        "colab": {
          "base_uri": "https://localhost:8080/",
          "height": 204
        }
      },
      "source": [
        "print(arr)"
      ],
      "execution_count": 0,
      "outputs": [
        {
          "output_type": "stream",
          "text": [
            "[[0. 0. 0. 0. 0. 0. 0. 0. 0. 0. 0.]\n",
            " [0. 0. 0. 0. 0. 0. 0. 0. 0. 0. 0.]\n",
            " [0. 0. 0. 0. 0. 0. 0. 0. 0. 0. 0.]\n",
            " [0. 0. 0. 0. 0. 0. 0. 0. 0. 0. 0.]\n",
            " [0. 0. 0. 0. 0. 0. 0. 0. 0. 0. 0.]\n",
            " [0. 0. 0. 0. 0. 0. 0. 0. 0. 0. 0.]\n",
            " [0. 0. 0. 0. 0. 0. 0. 0. 0. 0. 0.]\n",
            " [0. 0. 0. 0. 0. 0. 0. 0. 0. 0. 0.]\n",
            " [0. 0. 0. 0. 0. 0. 0. 0. 0. 0. 0.]\n",
            " [0. 0. 0. 0. 0. 0. 0. 0. 0. 0. 0.]\n",
            " [0. 0. 0. 0. 0. 0. 0. 0. 0. 0. 0.]]\n"
          ],
          "name": "stdout"
        }
      ]
    },
    {
      "cell_type": "markdown",
      "metadata": {
        "id": "QdUU4IrNW497",
        "colab_type": "text"
      },
      "source": [
        "1.4 Змінити діагоналі за допомогою двох циклів"
      ]
    },
    {
      "cell_type": "code",
      "metadata": {
        "id": "daY99TBjW49-",
        "colab_type": "code",
        "colab": {}
      },
      "source": [
        "for i in range(size):\n",
        "\tfor j in range(size):\n",
        "\t\tif (i==j):\n",
        "\t\t\tarr[i][j] = 1\n",
        "\t\telif (i==size-j-1):\n",
        "\t\t\tarr[i][j] = 1"
      ],
      "execution_count": 0,
      "outputs": []
    },
    {
      "cell_type": "markdown",
      "metadata": {
        "id": "XSWjj-DVW4-H",
        "colab_type": "text"
      },
      "source": [
        "1.5 Вивести створений масив"
      ]
    },
    {
      "cell_type": "code",
      "metadata": {
        "id": "PfkCIkG3W4-I",
        "colab_type": "code",
        "outputId": "b2ca65ac-d8c8-4bb1-cb2b-40adec4c5441",
        "colab": {
          "base_uri": "https://localhost:8080/",
          "height": 204
        }
      },
      "source": [
        "print(arr)"
      ],
      "execution_count": 0,
      "outputs": [
        {
          "output_type": "stream",
          "text": [
            "[[1. 0. 0. 0. 0. 0. 0. 0. 0. 0. 1.]\n",
            " [0. 1. 0. 0. 0. 0. 0. 0. 0. 1. 0.]\n",
            " [0. 0. 1. 0. 0. 0. 0. 0. 1. 0. 0.]\n",
            " [0. 0. 0. 1. 0. 0. 0. 1. 0. 0. 0.]\n",
            " [0. 0. 0. 0. 1. 0. 1. 0. 0. 0. 0.]\n",
            " [0. 0. 0. 0. 0. 1. 0. 0. 0. 0. 0.]\n",
            " [0. 0. 0. 0. 1. 0. 1. 0. 0. 0. 0.]\n",
            " [0. 0. 0. 1. 0. 0. 0. 1. 0. 0. 0.]\n",
            " [0. 0. 1. 0. 0. 0. 0. 0. 1. 0. 0.]\n",
            " [0. 1. 0. 0. 0. 0. 0. 0. 0. 1. 0.]\n",
            " [1. 0. 0. 0. 0. 0. 0. 0. 0. 0. 1.]]\n"
          ],
          "name": "stdout"
        }
      ]
    },
    {
      "cell_type": "markdown",
      "metadata": {
        "id": "INI2Jc27W4-N",
        "colab_type": "text"
      },
      "source": [
        "## 2. Засобами NumPy створити вертикальні та горизонтальні зображення градієнту в обидва боки (поступове збільшення яскравості на зображенні).\n",
        "\n",
        "Приклад зображення градієнту\n",
        "<img src=\"https://github.com/mosolab/DIP/blob/master/assignments/horizontal_grad.jpg?raw=1\" height=\"200\" width=\"200\">"
      ]
    },
    {
      "cell_type": "markdown",
      "metadata": {
        "id": "kmWM6hbwW4-O",
        "colab_type": "text"
      },
      "source": [
        "### Горизонтальний градієнт"
      ]
    },
    {
      "cell_type": "markdown",
      "metadata": {
        "id": "yFb_e8ZCW4-P",
        "colab_type": "text"
      },
      "source": [
        "2.1 Створити нульовий масив розміром 255х255"
      ]
    },
    {
      "cell_type": "code",
      "metadata": {
        "id": "0OiF-0eFW4-R",
        "colab_type": "code",
        "colab": {}
      },
      "source": [
        "horizontal_gradient1 = ***"
      ],
      "execution_count": 0,
      "outputs": []
    },
    {
      "cell_type": "markdown",
      "metadata": {
        "id": "LK18HHIBW4-W",
        "colab_type": "text"
      },
      "source": [
        "2.2 Визначити розміри масиву"
      ]
    },
    {
      "cell_type": "code",
      "metadata": {
        "id": "yr08DT6FW4-X",
        "colab_type": "code",
        "colab": {}
      },
      "source": [
        "w = horizontal_gradient1.***[1]\n",
        "h = horizontal_gradient1.***[0]"
      ],
      "execution_count": 0,
      "outputs": []
    },
    {
      "cell_type": "markdown",
      "metadata": {
        "id": "TagX9uutW4-c",
        "colab_type": "text"
      },
      "source": [
        "2.3 Поелементно змінити яскравості кожного пікселя"
      ]
    },
    {
      "cell_type": "code",
      "metadata": {
        "id": "9cWdUdj1W4-d",
        "colab_type": "code",
        "colab": {}
      },
      "source": [
        "for i in range():\n",
        "    for j in range():\n",
        "        horizontal_gradient1[][] = ***"
      ],
      "execution_count": 0,
      "outputs": []
    },
    {
      "cell_type": "markdown",
      "metadata": {
        "id": "Eh6hxiXYW4-k",
        "colab_type": "text"
      },
      "source": [
        "2.4 Записати зображення засабами OpenCV"
      ]
    },
    {
      "cell_type": "code",
      "metadata": {
        "id": "egLmHTCiW4-l",
        "colab_type": "code",
        "colab": {}
      },
      "source": [
        "cv2.imwrite('horizontal_grad1.jpg', horizontal_gradient1)"
      ],
      "execution_count": 0,
      "outputs": []
    },
    {
      "cell_type": "markdown",
      "metadata": {
        "id": "l2B7c1KxW4-q",
        "colab_type": "text"
      },
      "source": [
        "2.5 Аналогічно створити горизонтальний градієнт в інший бік"
      ]
    },
    {
      "cell_type": "code",
      "metadata": {
        "id": "zUDGblxJW4-q",
        "colab_type": "code",
        "colab": {}
      },
      "source": [
        "horizontal_gradient2 = ***\n",
        "\n",
        "w = horizontal_gradient2.***[1]\n",
        "h = horizontal_gradient2.***[0]\n",
        "for i in range():\n",
        "    for j in range():\n",
        "        horizontal_gradient2[][] = \n",
        "        \n",
        "cv2.imwrite('horizontal_grad2.jpg', horizontal_gradient2)"
      ],
      "execution_count": 0,
      "outputs": []
    },
    {
      "cell_type": "markdown",
      "metadata": {
        "id": "Mq-XVQvBW4-w",
        "colab_type": "text"
      },
      "source": [
        "### Вертикальний градієнт"
      ]
    },
    {
      "cell_type": "markdown",
      "metadata": {
        "id": "ogor96AVW4-x",
        "colab_type": "text"
      },
      "source": [
        "2.6 Створити нульовий масив розміром 255х255"
      ]
    },
    {
      "cell_type": "code",
      "metadata": {
        "id": "_WxOK12vW4-y",
        "colab_type": "code",
        "colab": {}
      },
      "source": [
        "vertical_gradient1 = ***"
      ],
      "execution_count": 0,
      "outputs": []
    },
    {
      "cell_type": "markdown",
      "metadata": {
        "id": "vB0-PTwrW4-2",
        "colab_type": "text"
      },
      "source": [
        "2.7 Визначити розміри масиву"
      ]
    },
    {
      "cell_type": "code",
      "metadata": {
        "id": "Jy5NYnw9W4-3",
        "colab_type": "code",
        "colab": {}
      },
      "source": [
        "w = vertical_gradient1.***[1]\n",
        "h = vertical_gradient1.***[0]"
      ],
      "execution_count": 0,
      "outputs": []
    },
    {
      "cell_type": "markdown",
      "metadata": {
        "id": "gDDQZe-dW4_I",
        "colab_type": "text"
      },
      "source": [
        "2.8 Поелементно змінити яскравості кожного пікселя"
      ]
    },
    {
      "cell_type": "code",
      "metadata": {
        "id": "1XASt3TKW4_J",
        "colab_type": "code",
        "colab": {}
      },
      "source": [
        "for i in range():\n",
        "    for j in range():\n",
        "        vertical_gradient1[][] = ***"
      ],
      "execution_count": 0,
      "outputs": []
    },
    {
      "cell_type": "markdown",
      "metadata": {
        "id": "LUkcNa9XW4_P",
        "colab_type": "text"
      },
      "source": [
        "2.9 Записати зображення засабами OpenCV"
      ]
    },
    {
      "cell_type": "code",
      "metadata": {
        "id": "IO1_4cW4W4_R",
        "colab_type": "code",
        "colab": {}
      },
      "source": [
        "cv2.imwrite('vertical_grad1.jpg', vertical_gradient1)"
      ],
      "execution_count": 0,
      "outputs": []
    },
    {
      "cell_type": "markdown",
      "metadata": {
        "id": "Qg2wRwmjW4_Y",
        "colab_type": "text"
      },
      "source": [
        "2.10 Аналогічно створити горизонтальний градієнт в інший бік"
      ]
    },
    {
      "cell_type": "code",
      "metadata": {
        "id": "ymrulgB8W4_Z",
        "colab_type": "code",
        "colab": {}
      },
      "source": [
        "vertical_gradient2 = ***\n",
        "\n",
        "w = vertical_gradient2.***[1]\n",
        "h = vertical_gradient2.***[0]\n",
        "\n",
        "for i in range():\n",
        "    for j in range():\n",
        "        vertical_gradient2[][] = ***\n",
        "        \n",
        "cv2.imwrite('vertical_grad2.jpg', vertical_gradient2)\n"
      ],
      "execution_count": 0,
      "outputs": []
    }
  ]
}